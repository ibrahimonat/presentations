{
 "cells": [
  {
   "cell_type": "markdown",
   "metadata": {},
   "source": [
    "# Python dilinde Yapay Sinir Ağları (YSA) Modellemesi\n",
    "\n",
    "Mustafa Erden\n",
    "Ses Ar-Ge Ekip Lideri, Sestek\n",
    "\n",
    "\n",
    "Problem:\n",
    "\n",
    "Chatbot'a şöyle içerik geldiğinde bunu nasıl anlaşılır formata dönüştürürüz?\n",
    "\n",
    "\"faturabilgisi öğrenmek istiyorum\"\n",
    "\n"
   ]
  },
  {
   "cell_type": "markdown",
   "metadata": {},
   "source": [
    "## İleri beslemeli YSA\n",
    "\n",
    "![feedforward_nnet](feedforward_nnet.png)\n",
    "\n",
    "ref: https://cdn-images-1.medium.com/max/800/1*pbk9xtz7WbBwYPVATdl9Vw.png"
   ]
  },
  {
   "cell_type": "markdown",
   "metadata": {},
   "source": [
    "Gereklilikler:\n",
    "* [miniconda](https://docs.conda.io/en/latest/miniconda.html) kurulur.\n",
    "* Miniconda kurulumu sırasında Path'e ekle opsiyonu seçilir.\n",
    "* cmd\n",
    "```console\n",
    "conda update conda\n",
    "conda install python=3.6\n",
    "pip install numpy\n",
    "pip install cntk / pip install cntk-gpu\n",
    "pip install tensorboard\n",
    "pip install tensorflow\n",
    "```"
   ]
  },
  {
   "cell_type": "markdown",
   "metadata": {},
   "source": [
    "```python\n",
    "\n",
    "ali okula gitti\n",
    "\n",
    " \t \t \t \t \t{a}\tl\ti\to\tk\tu\t1\n",
    " \t \t \t \ta\t{l}\ti\to\tk\tu\tl\t1\n",
    " \t \t \ta\tl\t{i}\to\tk\tu\tl\ta\t0\n",
    " \ta\tl\ti\t \t{o}\tk\tu\tl\ta\tg\t1\n",
    "a\tl\ti\t \to\t{k}\tu\tl\ta\tg\ti\t1\n",
    "l\ti\t \to\tk\t{u}\tl\ta\tg\ti\tt\t1\n",
    "i\t \to\tk\tu\t{l}\ta\tg\ti\tt\tt\t1\n",
    " \to\tk\tu\tl\t{a}\tg\ti\tt\tt\ti\t0\n",
    "k\tu\tl\ta\t \t{g}\ti\tt\tt\ti\th\t1\n",
    "u\tl\ta\t \tg\t{i}\tt\tt\ti\th\ta\t1\n",
    "l\ta\t \tg\ti\t{t}\tt\ti\th\ta\ts\t1\n",
    "a\t \tg\ti\tt\t{t}\ti\th\ta\ts\ta\t1\n",
    " \tg\ti\tt\tt\t{i}\th\ta\ts\ta\tn\t0\n",
    "```"
   ]
  },
  {
   "cell_type": "code",
   "execution_count": 1,
   "metadata": {},
   "outputs": [],
   "source": [
    "import io\n",
    "import re\n",
    "import numpy as np\n",
    "\n",
    "\n",
    "tr_upper = list(\" ABCÇDEFGĞHIİJKLMNOÖPRSŞTUÜVYZ\")\n",
    "tr_lower = list(\" abcçdefgğhıijklmnoöprsştuüvyz\")\n",
    "left_context = 9\n",
    "right_context = 9"
   ]
  },
  {
   "cell_type": "code",
   "execution_count": 2,
   "metadata": {},
   "outputs": [],
   "source": [
    "def line_to_seq(line):\n",
    "    seq = []\n",
    "    for ch in line:\n",
    "        if ch in tr_lower:\n",
    "            seq.append(tr_lower.index(ch))\n",
    "        elif ch in tr_upper:\n",
    "            seq.append(tr_upper.index(ch))\n",
    "        else:\n",
    "            seq.append(tr_lower.index(' '))\n",
    "    return seq"
   ]
  },
  {
   "cell_type": "code",
   "execution_count": 3,
   "metadata": {},
   "outputs": [],
   "source": [
    "def add_context(items, index):\n",
    "        items_count = len(items)\n",
    "\n",
    "        go_back = []\n",
    "        found_count = 0\n",
    "        cursor = index\n",
    "        while True:\n",
    "            if left_context == 0:\n",
    "                break\n",
    "            target = 0\n",
    "            cursor -= 1\n",
    "            if cursor >= 0:\n",
    "                target = items[cursor]\n",
    "\n",
    "            go_back.append(target)\n",
    "            found_count += 1\n",
    "            if found_count >= left_context:\n",
    "                break\n",
    "\n",
    "        go_forward = []\n",
    "        found_count = 0\n",
    "        cursor = index\n",
    "        while True:\n",
    "            if right_context == 0:\n",
    "                break\n",
    "            target = 0\n",
    "            cursor += 1\n",
    "            if cursor < items_count:\n",
    "                target = items[cursor]\n",
    "\n",
    "            if cursor < items_count and target == 0:\n",
    "                continue\n",
    "\n",
    "            go_forward.append(target)\n",
    "            found_count += 1\n",
    "            if found_count >= right_context:\n",
    "                break\n",
    "\n",
    "        prev_items = list(reversed(go_back))\n",
    "\n",
    "        return prev_items + [items[index]] + go_forward"
   ]
  },
  {
   "cell_type": "code",
   "execution_count": 4,
   "metadata": {},
   "outputs": [],
   "source": [
    "def prepare_ctf_data(data_file, ctf_file):\n",
    "    with io.open(data_file, mode='rt', encoding='utf-8') as fr:\n",
    "        lines = fr.read().splitlines()\n",
    "\n",
    "    zero_sample_count = 0\n",
    "    one_sample_count = 0\n",
    "    with open(ctf_file, mode=\"wt\", encoding=\"utf-8\") as fw:\n",
    "        for line in lines:\n",
    "            normalized_line = re.sub(r'\\s+', ' ', line)\n",
    "            normalized_line = normalized_line.strip() + ' '\n",
    "            seq = line_to_seq(normalized_line)\n",
    "\n",
    "            for i in range(len(seq) - 1):\n",
    "                next_item = seq[i + 1]\n",
    "                label = 0 if (next_item == 0) else 1\n",
    "                feat = np.array(add_context(seq, i)) / len(tr_upper)\n",
    "\n",
    "                if label == 1:\n",
    "                    one_sample_count += 1\n",
    "                else:\n",
    "                    zero_sample_count += 1\n",
    "\n",
    "                label_str = \"0 1\" if label == 1 else \"1 0\"\n",
    "                feature_str = \" \".join([\"{:.6f}\".format(k) for k in feat])\n",
    "                line = \"|labels {} |features {}\\n\".format(label_str, feature_str)\n",
    "                fw.write(line)\n",
    "\n",
    "    print(\"one_sample_count: {} zero_sample_count: {}\".format(one_sample_count, zero_sample_count))\n"
   ]
  },
  {
   "cell_type": "code",
   "execution_count": 5,
   "metadata": {},
   "outputs": [
    {
     "name": "stdout",
     "output_type": "stream",
     "text": [
      "one_sample_count: 42648 zero_sample_count: 8781\n"
     ]
    }
   ],
   "source": [
    "prepare_ctf_data(\"validation.txt\", \"validation.ctf\")"
   ]
  },
  {
   "cell_type": "code",
   "execution_count": 6,
   "metadata": {},
   "outputs": [
    {
     "name": "stdout",
     "output_type": "stream",
     "text": [
      "one_sample_count: 1501143 zero_sample_count: 324323\n"
     ]
    }
   ],
   "source": [
    "prepare_ctf_data(\"train.txt\", \"train.ctf\")"
   ]
  },
  {
   "cell_type": "code",
   "execution_count": 8,
   "metadata": {},
   "outputs": [
    {
     "name": "stdout",
     "output_type": "stream",
     "text": [
      "one_sample_count: 68542 zero_sample_count: 13306\n"
     ]
    }
   ],
   "source": [
    "prepare_ctf_data(\"train_subset.txt\", \"train_subset.ctf\")"
   ]
  },
  {
   "cell_type": "code",
   "execution_count": null,
   "metadata": {},
   "outputs": [],
   "source": []
  }
 ],
 "metadata": {
  "kernelspec": {
   "display_name": "Python 3",
   "language": "python",
   "name": "python3"
  },
  "language_info": {
   "codemirror_mode": {
    "name": "ipython",
    "version": 3
   },
   "file_extension": ".py",
   "mimetype": "text/x-python",
   "name": "python",
   "nbconvert_exporter": "python",
   "pygments_lexer": "ipython3",
   "version": "3.5.6"
  }
 },
 "nbformat": 4,
 "nbformat_minor": 1
}
